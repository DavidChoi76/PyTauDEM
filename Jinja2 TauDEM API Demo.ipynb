{
 "cells": [
  {
   "cell_type": "code",
   "execution_count": 1,
   "metadata": {},
   "outputs": [],
   "source": [
    "import jinja2"
   ]
  },
  {
   "cell_type": "code",
   "execution_count": 2,
   "metadata": {},
   "outputs": [],
   "source": [
    "TauDEM_TEMPLATE = \"\"\"\n",
    "{%- for library in cls.libraries %}\n",
    "import {{ library }}\n",
    "{%- endfor %}\n",
    "\n",
    "def {{ cls.method1 }}({{ cls.parameter1}}):\n",
    "    {%- for (name, prop) in cls.property1.items() %}\n",
    "    {{ name }} = {{ prop }}\n",
    "    {%- endfor %}\n",
    "    print(output)\n",
    "\n",
    "{%- for (name, cmd) in cls.method2.items() %}\n",
    "\n",
    "def {{ name }}({{ cmd[0] }}):\n",
    "    {{ cmd[2] }}\n",
    "    {{ name }} = {{ cmd[1] }}\n",
    "    return {{ name }}\n",
    "    {%- endfor %} \n",
    "\"\"\""
   ]
  },
  {
   "cell_type": "code",
   "execution_count": 3,
   "metadata": {},
   "outputs": [],
   "source": [
    "TauDEM_Attributes_JSON = {\n",
    "    \"library\": [\"os\", \"subprocess\"],\n",
    "    \"method1\": \"taudem_execute\",\n",
    "    \"paramter1\":[\"taudem_cmd\"],\n",
    "    \"object1\": {\"p\": \"subprocess.Popen(taudem_cmd, shell=True, stdout=subprocess.PIPE, stderr=subprocess.PIPE)\", \n",
    "                \"output\": \"p.communicate()[0].decode('utf-8')\"},\n",
    "    \"method2\": {\"pitremove\":['np, input, output',\n",
    "                             '\"mpirun -np {} pitremove -z {} -fel {}\".format(np, input, output)',\n",
    "                             '\"\"\" command: pitremove -z dem.tif -fel demfel.tif, demfile: input elevation grid, felfile: output elevations with pits filled \"\"\"'  \n",
    "                             ],\n",
    "                 \"d8flowdir\":['np, input, output1, output2',\n",
    "                              '\"mpirun -np {} d8flowdir -fel {} -p {} -sd8 {}\".format(np, input, output1, output2)',\n",
    "                              '\"\"\" command: d8flowdir -fel demfel.tif -p demp.tif -sd8 demsd8.tif, demfile: Pit filled elevation input data, pointfile: D8 flow directions output, slopefile: D8 slopes output \"\"\"'\n",
    "                              ],\n",
    "                 \"dinfflowdir\":['np, input, output1, output2',\n",
    "                                '\"mpirun -np {} dinfflowdir -fel {} -ang {} -slp {}\".format(np, input, output1, output2)',\n",
    "                                '\"\"\" command: dinfflowdir -fel demfel.tif -ang demang.tif -slp demslp.tif, demfile: Pit filled elevation input data, angfile: Dinf flow directions output, slopefile: Dinf slopes output \"\"\"'\n",
    "                              ],\n",
    "                 \"aread8\":['np, input, output',\n",
    "                           '\"mpirun -np {} aread8 -p {} -ad8 {}\".format(np, input, output)',\n",
    "                           '\"\"\" command: aread8 -p demp.tif -ad8 demad8.tif, pfile: input flow directions grid, ad8file: output contributing area grid \"\"\"'\n",
    "                              ],\n",
    "                 \"areadinf\":['np, input, output',\n",
    "                           '\"mpirun -np {} areadinf -ang {} -sca {}}\".format(np, input, output)',\n",
    "                           '\"\"\" command: areadinf -ang demang.tif -sca demsca.tif, angfile: Dinf angles input file, scafile: Dinf contributing areas output file \"\"\"'\n",
    "                              ],\n",
    "}\n",
    "}"
   ]
  },
  {
   "cell_type": "code",
   "execution_count": 4,
   "metadata": {},
   "outputs": [],
   "source": [
    "class JsonToSimApi(object):\n",
    "    \n",
    "    simulation_template = TauDEM_TEMPLATE\n",
    "    \n",
    "    def __init__(self, json):\n",
    "        self.json = json\n",
    "        self.val_list = []\n",
    "        \n",
    "    @property\n",
    "    def libraries(self):\n",
    "        return list(self.json[\"library\"]) \n",
    "            \n",
    "    @property\n",
    "    def method1(self):\n",
    "        return self.json['method1']\n",
    "\n",
    "    @property\n",
    "    def method2(self):\n",
    "        return {key: val for key, val in self.json[\"method2\"].items()}\n",
    "    \n",
    "    @property\n",
    "    def parameter1(self):\n",
    "        return ', '.join(self.json[\"paramter1\"])\n",
    "    \n",
    "    @property\n",
    "    def parameter2(self):\n",
    "        return list(', '.join(self.json[\"paramter2\"]))\n",
    "\n",
    "    @property\n",
    "    def property1(self):\n",
    "        return {key: val for key, val in self.json[\"object1\"].items()}\n",
    "\n",
    "    @property\n",
    "    def property2(self):\n",
    "        return {key: val for key, val in self.json[\"object2\"].items()}    \n",
    "\n",
    "    def object_code(self):\n",
    "        return jinja2.Template(self.simulation_template).render(cls=self)"
   ]
  },
  {
   "cell_type": "code",
   "execution_count": 5,
   "metadata": {
    "scrolled": false
   },
   "outputs": [
    {
     "name": "stdout",
     "output_type": "stream",
     "text": [
      "\n",
      "import os\n",
      "import subprocess\n",
      "\n",
      "def taudem_execute(taudem_cmd):\n",
      "    p = subprocess.Popen(taudem_cmd, shell=True, stdout=subprocess.PIPE, stderr=subprocess.PIPE)\n",
      "    output = p.communicate()[0].decode('utf-8')\n",
      "    print(output)\n",
      "\n",
      "def pitremove(np, input, output):\n",
      "    \"\"\" command: pitremove -z dem.tif -fel demfel.tif, demfile: input elevation grid, felfile: output elevations with pits filled \"\"\"\n",
      "    pitremove = \"mpirun -np {} pitremove -z {} -fel {}\".format(np, input, output)\n",
      "    return pitremove\n",
      "\n",
      "def d8flowdir(np, input, output1, output2):\n",
      "    \"\"\" command: d8flowdir -fel demfel.tif -p demp.tif -sd8 demsd8.tif, demfile: Pit filled elevation input data, pointfile: D8 flow directions output, slopefile: D8 slopes output \"\"\"\n",
      "    d8flowdir = \"mpirun -np {} d8flowdir -fel {} -p {} -sd8 {}\".format(np, input, output1, output2)\n",
      "    return d8flowdir\n",
      "\n",
      "def dinfflowdir(np, input, output1, output2):\n",
      "    \"\"\" command: dinfflowdir -fel demfel.tif -ang demang.tif -slp demslp.tif, demfile: Pit filled elevation input data, angfile: Dinf flow directions output, slopefile: Dinf slopes output \"\"\"\n",
      "    dinfflowdir = \"mpirun -np {} dinfflowdir -fel {} -ang {} -slp {}\".format(np, input, output1, output2)\n",
      "    return dinfflowdir\n",
      "\n",
      "def aread8(np, input1, output1, input2, input3):\n",
      "    \"\"\" command: aread8 -p demp.tif -ad8 demad8.tif [-o outletfile.shp] [-wg demwg.tif] [-nc], pfile: input flow directions grid, ad8file: output contributing area grid, Outletfile: input outlets shapefile, wgfile: input weight grid file  \"\"\"\n",
      "    aread8 = \"mpirun -np {} aread8 -p {} -ad8 {} -o {} -wg {}\".format(np, input, output1, input2, input3)\n",
      "    return aread8\n",
      "\n",
      "def areadinf(np, input1, output1, input2):\n",
      "    \"\"\" command: areadinf -ang demang.tif -sca demsca.tif [-o outletfile.shp] [-wg demwg.tif] [-nc], angfile: Dinf angles input file, scafile: Dinf contributing areas output file, outletfile: Shapefile with outlet coordinates, wgfile: an optional weight file for area computations \"\"\"\n",
      "    areadinf = \"mpirun -np {} areadinf -ang {} -sca {} -o {} -wg {}\".format(np, input, output1, input2, input3)\n",
      "    return areadinf \n"
     ]
    }
   ],
   "source": [
    "code = JsonToSimApi(TauDEM_Attributes_JSON).object_code()\n",
    "print(code)"
   ]
  },
  {
   "cell_type": "code",
   "execution_count": 6,
   "metadata": {},
   "outputs": [],
   "source": [
    "%%capture cap --no-stderr\n",
    "print(code)"
   ]
  },
  {
   "cell_type": "code",
   "execution_count": 7,
   "metadata": {},
   "outputs": [],
   "source": [
    "%%capture cap --no-stderr\n",
    "with open('taudem_test.py', 'w') as f:\n",
    "    f.write(cap.stdout)"
   ]
  },
  {
   "cell_type": "code",
   "execution_count": 8,
   "metadata": {},
   "outputs": [],
   "source": [
    "!autopep8 --in-place --aggressive --aggressive 'taudem_test.py'"
   ]
  },
  {
   "cell_type": "code",
   "execution_count": 9,
   "metadata": {},
   "outputs": [
    {
     "data": {
      "text/plain": [
       "'taudem.py'"
      ]
     },
     "execution_count": 9,
     "metadata": {},
     "output_type": "execute_result"
    }
   ],
   "source": [
    "import shutil\n",
    "shutil.copy('taudem_test.py', 'taudem.py')"
   ]
  },
  {
   "cell_type": "code",
   "execution_count": null,
   "metadata": {},
   "outputs": [],
   "source": []
  }
 ],
 "metadata": {
  "kernelspec": {
   "display_name": "Python 3",
   "language": "python",
   "name": "python3"
  },
  "language_info": {
   "codemirror_mode": {
    "name": "ipython",
    "version": 3
   },
   "file_extension": ".py",
   "mimetype": "text/x-python",
   "name": "python",
   "nbconvert_exporter": "python",
   "pygments_lexer": "ipython3",
   "version": "3.7.3"
  }
 },
 "nbformat": 4,
 "nbformat_minor": 2
}
